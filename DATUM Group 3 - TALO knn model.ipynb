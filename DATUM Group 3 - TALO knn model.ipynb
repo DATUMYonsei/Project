{
 "metadata": {
  "language_info": {
   "codemirror_mode": {
    "name": "ipython",
    "version": 3
   },
   "file_extension": ".py",
   "mimetype": "text/x-python",
   "name": "python",
   "nbconvert_exporter": "python",
   "pygments_lexer": "ipython3",
   "version": "3.8.3-final"
  },
  "orig_nbformat": 2,
  "kernelspec": {
   "name": "python3",
   "display_name": "Python 3"
  }
 },
 "nbformat": 4,
 "nbformat_minor": 2,
 "cells": [
  {
   "cell_type": "code",
   "execution_count": 1,
   "metadata": {},
   "outputs": [
    {
     "output_type": "stream",
     "name": "stdout",
     "text": [
      "     Date  Open   High    Low  Close  Adj Close   Volume  biden  trump\n0    07-6  9.26  9.280  8.760   8.87       8.87   371900     50     40\n1   07-10  7.97  8.130  7.705   7.90       7.90   609600     51     40\n2    13-7  7.97  8.040  7.420   7.55       7.55   779400     49     40\n3    14-7  7.50  7.890  7.350   7.85       7.85   528900     49     41\n4    22-7  8.48  8.530  8.170   8.29       8.29   435300     55     45\n5    27-7  7.73  7.730  7.050   7.08       7.08   799000     48     41\n6    29-7  7.02  7.200  6.950   7.10       7.10   480100     50     46\n7    08-3  6.83  7.220  6.780   6.97       6.97   791200     49     40\n8    08-4  7.01  7.650  6.990   7.52       7.52   725300     43     40\n9    08-7  7.14  7.450  7.030   7.44       7.44   673900     49     43\n10  08-10  7.60  8.260  7.600   8.06       8.06   850800     49     39\n11  08-11  8.40  8.680  7.980   8.03       8.03   814300     50     41\n12   13-8  8.46  8.880  8.310   8.45       8.45   977100     45     39\n13   14-8  8.31  8.760  8.290   8.72       8.72   467200     54     44\n14   21-8  7.57  7.660  7.300   7.32       7.32   822900     52     42\n15   24-8  7.35  7.660  7.175   7.49       7.49  1019000     50     41\n16   27-8  7.43  7.538  7.230   7.43       7.43   568200     49     41\n17   28-8  7.50  7.680  7.390   7.64       7.64   477500     52     42\n18   31-8  7.65  7.760  7.390   7.51       7.51   359700     49     41\n19   09-1  7.42  7.490  7.080   7.10       7.10   553800     53     47\n20   09-3  6.85  7.130  6.810   6.89       6.89   489000     52     42\n21   09-4  7.02  7.200  6.670   6.88       6.88   503300     52     40\n22   09-8  6.65  6.711  6.370   6.45       6.45   685300     52     42\n23   09-9  6.57  6.620  6.210   6.27       6.27   910900     51     46\n24  09-11  5.94  5.950  5.620   5.72       5.72   718700     45     39\n25   14-9  5.74  5.750  5.525   5.65       5.65  1237000     51     42\n26   17-9  6.23  6.790  6.050   6.72       6.72  1138200     50     44\n27   18-9  6.74  6.870  6.460   6.68       6.68   986900     52     42\n28   22-9  6.15  6.280  5.900   5.97       5.97   285900     54     44\n29   23-9  5.95  6.030  5.570   5.58       5.58   686200     47     45\n30   24-9  5.58  5.760  5.390   5.56       5.56   412700     45     40\n31   29-9  6.25  6.270  5.980   6.26       6.26   626200     54     41\n32   30-9  6.32  6.580  6.280   6.45       6.45   658600     53     39\n33   10-1  6.39  6.500  6.220   6.37       6.37   418700     51     43\n"
     ]
    },
    {
     "output_type": "execute_result",
     "data": {
      "text/plain": [
       "    Date  Open  High    Low  Close  Adj Close  Volume  biden  trump\n",
       "0   07-6  9.26  9.28  8.760   8.87       8.87  371900     50     40\n",
       "1  07-10  7.97  8.13  7.705   7.90       7.90  609600     51     40\n",
       "2   13-7  7.97  8.04  7.420   7.55       7.55  779400     49     40\n",
       "3   14-7  7.50  7.89  7.350   7.85       7.85  528900     49     41\n",
       "4   22-7  8.48  8.53  8.170   8.29       8.29  435300     55     45"
      ],
      "text/html": "<div>\n<style scoped>\n    .dataframe tbody tr th:only-of-type {\n        vertical-align: middle;\n    }\n\n    .dataframe tbody tr th {\n        vertical-align: top;\n    }\n\n    .dataframe thead th {\n        text-align: right;\n    }\n</style>\n<table border=\"1\" class=\"dataframe\">\n  <thead>\n    <tr style=\"text-align: right;\">\n      <th></th>\n      <th>Date</th>\n      <th>Open</th>\n      <th>High</th>\n      <th>Low</th>\n      <th>Close</th>\n      <th>Adj Close</th>\n      <th>Volume</th>\n      <th>biden</th>\n      <th>trump</th>\n    </tr>\n  </thead>\n  <tbody>\n    <tr>\n      <th>0</th>\n      <td>07-6</td>\n      <td>9.26</td>\n      <td>9.28</td>\n      <td>8.760</td>\n      <td>8.87</td>\n      <td>8.87</td>\n      <td>371900</td>\n      <td>50</td>\n      <td>40</td>\n    </tr>\n    <tr>\n      <th>1</th>\n      <td>07-10</td>\n      <td>7.97</td>\n      <td>8.13</td>\n      <td>7.705</td>\n      <td>7.90</td>\n      <td>7.90</td>\n      <td>609600</td>\n      <td>51</td>\n      <td>40</td>\n    </tr>\n    <tr>\n      <th>2</th>\n      <td>13-7</td>\n      <td>7.97</td>\n      <td>8.04</td>\n      <td>7.420</td>\n      <td>7.55</td>\n      <td>7.55</td>\n      <td>779400</td>\n      <td>49</td>\n      <td>40</td>\n    </tr>\n    <tr>\n      <th>3</th>\n      <td>14-7</td>\n      <td>7.50</td>\n      <td>7.89</td>\n      <td>7.350</td>\n      <td>7.85</td>\n      <td>7.85</td>\n      <td>528900</td>\n      <td>49</td>\n      <td>41</td>\n    </tr>\n    <tr>\n      <th>4</th>\n      <td>22-7</td>\n      <td>8.48</td>\n      <td>8.53</td>\n      <td>8.170</td>\n      <td>8.29</td>\n      <td>8.29</td>\n      <td>435300</td>\n      <td>55</td>\n      <td>45</td>\n    </tr>\n  </tbody>\n</table>\n</div>"
     },
     "metadata": {},
     "execution_count": 1
    }
   ],
   "source": [
    "import pandas as pd\n",
    "import numpy as np\n",
    "stock_data = pd.read_csv(\"C:/Users/betzy/Documents/DATUM Project - Stock Data/knn-model data/filtered_TALO_stock.csv\")\n",
    "print(stock_data)\n",
    "stock_data.head()"
   ]
  },
  {
   "cell_type": "code",
   "execution_count": 2,
   "metadata": {},
   "outputs": [
    {
     "output_type": "stream",
     "name": "stdout",
     "text": [
      "14\n"
     ]
    }
   ],
   "source": [
    "# scenario where biden wins with 64 percent\n",
    "biden_percent = 64\n",
    "\n",
    "# getting first distance\n",
    "first_biden_percent = stock_data.loc[0, 'biden']\n",
    "first_distance = np.abs(first_biden_percent - biden_percent)\n",
    "print(first_distance) "
   ]
  },
  {
   "cell_type": "code",
   "execution_count": 3,
   "metadata": {},
   "outputs": [
    {
     "output_type": "execute_result",
     "data": {
      "text/plain": [
       "9     1\n",
       "10    3\n",
       "11    2\n",
       "12    6\n",
       "13    4\n",
       "14    5\n",
       "15    7\n",
       "16    1\n",
       "17    1\n",
       "19    3\n",
       "21    1\n",
       "Name: distance, dtype: int64"
      ]
     },
     "metadata": {},
     "execution_count": 3
    }
   ],
   "source": [
    "# adding column for distance\n",
    "stock_data['distance'] = np.abs(stock_data.biden - biden_percent)\n",
    "\n",
    "# sorting column\n",
    "stock_data.distance.value_counts().sort_index()"
   ]
  },
  {
   "cell_type": "code",
   "execution_count": 4,
   "metadata": {},
   "outputs": [
    {
     "output_type": "execute_result",
     "data": {
      "text/plain": [
       "4     55\n",
       "28    54\n",
       "13    54\n",
       "31    54\n",
       "32    53\n",
       "Name: biden, dtype: int64"
      ]
     },
     "metadata": {},
     "execution_count": 4
    }
   ],
   "source": [
    "# randomizes order\n",
    "stock_data = stock_data.sample(frac = 1, random_state=0)\n",
    "\n",
    "# sorting values\n",
    "stock_data = stock_data.sort_values('distance')\n",
    "stock_data.biden.head()"
   ]
  },
  {
   "cell_type": "code",
   "execution_count": 5,
   "metadata": {},
   "outputs": [
    {
     "output_type": "execute_result",
     "data": {
      "text/plain": [
       "7.138"
      ]
     },
     "metadata": {},
     "execution_count": 5
    }
   ],
   "source": [
    "# get mean close from first 5 neighbors\n",
    "mean_close = stock_data.Close.iloc[:5].mean()\n",
    "mean_close"
   ]
  },
  {
   "cell_type": "code",
   "execution_count": 6,
   "metadata": {},
   "outputs": [],
   "source": [
    "# split into training and testing data sets; train 7 test 3\n",
    "stock_data.drop('distance', axis=1)\n",
    "train_stock_data = stock_data.copy().iloc[:7]\n",
    "test_stock_data = stock_data.copy().iloc[7:10]"
   ]
  },
  {
   "cell_type": "code",
   "execution_count": 7,
   "metadata": {},
   "outputs": [],
   "source": [
    "# function to predict stock price based on percentage of biden\n",
    "def predict_price(biden_percent, feature_column):\n",
    "    temp_df = train_stock_data\n",
    "    temp_df['distance'] = np.abs(stock_data[feature_column] - biden_percent)\n",
    "    temp_df = temp_df.sort_values('distance')\n",
    "    knn_5 = temp_df.Close.iloc[:5]\n",
    "    predicted_price = knn_5.mean()\n",
    "    return (predicted_price)"
   ]
  },
  {
   "cell_type": "code",
   "execution_count": 8,
   "metadata": {},
   "outputs": [],
   "source": [
    "test_stock_data['predicted_close'] = test_stock_data.biden.apply(predict_price, feature_column = 'biden')"
   ]
  },
  {
   "cell_type": "code",
   "execution_count": 9,
   "metadata": {},
   "outputs": [
    {
     "output_type": "stream",
     "name": "stdout",
     "text": [
      "0.5152824468192179\n"
     ]
    }
   ],
   "source": [
    "# rmse\n",
    "test_stock_data['squared_error'] = (test_stock_data['predicted_close'] - test_stock_data['Close']) ** (2)\n",
    "mse = test_stock_data['squared_error'].mean()\n",
    "rmse = mse ** (1/2)\n",
    "print(rmse)"
   ]
  },
  {
   "cell_type": "code",
   "execution_count": 10,
   "metadata": {},
   "outputs": [
    {
     "output_type": "stream",
     "name": "stdout",
     "text": [
      "TALO Biden 64% predicted close and rmse:\n7.138\n0.5152824468192179\n"
     ]
    }
   ],
   "source": [
    "print('TALO Biden 64% predicted close and rmse:')\n",
    "print(mean_close)\n",
    "print(rmse)"
   ]
  },
  {
   "cell_type": "code",
   "execution_count": null,
   "metadata": {},
   "outputs": [],
   "source": []
  }
 ]
}